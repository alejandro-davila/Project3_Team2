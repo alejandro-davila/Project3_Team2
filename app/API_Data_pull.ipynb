{
 "cells": [
  {
   "cell_type": "code",
   "execution_count": 1,
   "id": "b09670d6-3f3f-4a2b-9c12-b248812262f9",
   "metadata": {
    "tags": []
   },
   "outputs": [],
   "source": [
    "import requests\n",
    "from pprint import pprint"
   ]
  },
  {
   "cell_type": "code",
   "execution_count": 2,
   "id": "bcd16e11-9461-4869-8559-8f70b3497215",
   "metadata": {
    "tags": []
   },
   "outputs": [],
   "source": [
    "# API key you received from NREL\n",
    "api_key = \"RjZpx6DxeHBP4d17uK9Uifu6qhas3674psy6dJ7Q\"\n",
    "\n"
   ]
  },
  {
   "cell_type": "code",
   "execution_count": 3,
   "id": "ae57dbd4-ec02-4d9f-b7b0-713ed61874d5",
   "metadata": {
    "tags": []
   },
   "outputs": [],
   "source": [
    "# Base URL for the NREL API\n",
    "base_url = \"https://developer.nrel.gov\"\n",
    "endpoint = \"/api/alt-fuel-stations/v1.json\"\n",
    "\n",
    "url = base_url + endpoint\n",
    "\n"
   ]
  },
  {
   "cell_type": "code",
   "execution_count": 4,
   "id": "942ef2a8-b32f-46d2-a6e0-b24089a4899f",
   "metadata": {
    "tags": []
   },
   "outputs": [],
   "source": [
    "# Set up parameters: Electric Stations in Texas\n",
    "params = {\n",
    "    'api_key': api_key,\n",
    "    'limit': 10,  # Limiting the number of results returned\n",
    "    'fuel_type': 'ELEC',  # For electric stations\n",
    "    'state': 'TX'  # For stations located in Texas\n",
    "}\n",
    "\n"
   ]
  },
  {
   "cell_type": "code",
   "execution_count": 5,
   "id": "ec9bb43f-94c8-40a0-9364-c77764d8fb3a",
   "metadata": {
    "tags": []
   },
   "outputs": [
    {
     "name": "stdout",
     "output_type": "stream",
     "text": [
      "{'station_locator_url': 'https://afdc.energy.gov/stations/', 'total_results': 3322, 'station_counts': {'total': 8985, 'fuels': {'BD': {'total': 0}, 'E85': {'total': 0}, 'ELEC': {'total': 8985, 'stations': {'total': 3322}}, 'HY': {'total': 0}, 'LNG': {'total': 0}, 'CNG': {'total': 0}, 'LPG': {'total': 0}, 'RD': {'total': 0}}}, 'fuel_stations': [{'access_code': 'public', 'access_days_time': '24 hours daily', 'access_detail_code': None, 'cards_accepted': None, 'date_last_confirmed': '2023-09-26', 'expected_date': None, 'fuel_type_code': 'ELEC', 'groups_with_access_code': 'Public', 'id': 36378, 'open_date': '2015-10-02', 'owner_type_code': None, 'status_code': 'E', 'restricted_access': None, 'maximum_vehicle_class': None, 'station_name': 'BROOKFIELD PROP 300 CLAY STAT1', 'station_phone': '888-758-4389', 'updated_at': '2023-09-26T00:31:28Z', 'facility_type': None, 'geocode_status': 'GPS', 'latitude': 29.756604, 'longitude': -95.372854, 'city': 'Houston', 'intersection_directions': None, 'plus4': None, 'state': 'TX', 'street_address': '300 Clay St', 'zip': '77002', 'country': 'US', 'bd_blends': None, 'cng_dispenser_num': None, 'cng_fill_type_code': None, 'cng_psi': None, 'cng_renewable_source': None, 'cng_total_compression': None, 'cng_total_storage': None, 'cng_vehicle_class': None, 'cng_has_rng': None, 'e85_blender_pump': None, 'e85_other_ethanol_blends': None, 'ev_connector_types': ['J1772'], 'ev_dc_fast_num': None, 'ev_level1_evse_num': None, 'ev_level2_evse_num': 2, 'ev_network': 'ChargePoint Network', 'ev_network_web': 'http://www.chargepoint.com/', 'ev_other_evse': None, 'ev_pricing': None, 'ev_renewable_source': None, 'hy_is_retail': None, 'hy_pressures': None, 'hy_standards': None, 'hy_status_link': None, 'lng_renewable_source': None, 'lng_vehicle_class': None, 'lng_has_rng': None, 'lpg_primary': None, 'lpg_nozzle_types': None, 'ng_fill_type_code': None, 'ng_psi': None, 'ng_vehicle_class': None, 'rd_blends': None, 'rd_blends_fr': None, 'rd_blended_with_biodiesel': None, 'rd_max_biodiesel_level': None, 'nps_unit_name': None, 'access_days_time_fr': None, 'intersection_directions_fr': None, 'bd_blends_fr': None, 'groups_with_access_code_fr': 'Public', 'ev_pricing_fr': None, 'ev_network_ids': {'station': ['USCPIL781001'], 'posts': ['1036951', '1036961']}}, {'access_code': 'public', 'access_days_time': 'Dealership business hours', 'access_detail_code': 'CALL', 'cards_accepted': None, 'date_last_confirmed': '2020-06-09', 'expected_date': None, 'fuel_type_code': 'ELEC', 'groups_with_access_code': 'Public - Call ahead', 'id': 39114, 'open_date': '2011-01-15', 'owner_type_code': 'P', 'status_code': 'E', 'restricted_access': False, 'maximum_vehicle_class': None, 'station_name': 'Clay Cooley Nissan', 'station_phone': '512-444-1400', 'updated_at': '2023-02-15T22:45:41Z', 'facility_type': 'CAR_DEALER', 'geocode_status': '200-9', 'latitude': 30.206145, 'longitude': -97.759109, 'city': 'Austin', 'intersection_directions': None, 'plus4': None, 'state': 'TX', 'street_address': '4914 S IH-35', 'zip': '78745', 'country': 'US', 'bd_blends': None, 'cng_dispenser_num': None, 'cng_fill_type_code': None, 'cng_psi': None, 'cng_renewable_source': None, 'cng_total_compression': None, 'cng_total_storage': None, 'cng_vehicle_class': None, 'cng_has_rng': None, 'e85_blender_pump': None, 'e85_other_ethanol_blends': None, 'ev_connector_types': ['CHADEMO', 'J1772'], 'ev_dc_fast_num': 1, 'ev_level1_evse_num': None, 'ev_level2_evse_num': 2, 'ev_network': 'Non-Networked', 'ev_network_web': None, 'ev_other_evse': None, 'ev_pricing': 'Free', 'ev_renewable_source': None, 'hy_is_retail': None, 'hy_pressures': None, 'hy_standards': None, 'hy_status_link': None, 'lng_renewable_source': None, 'lng_vehicle_class': None, 'lng_has_rng': None, 'lpg_primary': None, 'lpg_nozzle_types': None, 'ng_fill_type_code': None, 'ng_psi': None, 'ng_vehicle_class': None, 'rd_blends': None, 'rd_blends_fr': None, 'rd_blended_with_biodiesel': None, 'rd_max_biodiesel_level': None, 'nps_unit_name': None, 'access_days_time_fr': None, 'intersection_directions_fr': None, 'bd_blends_fr': None, 'groups_with_access_code_fr': \"Public - Appeler à l'avance\", 'ev_pricing_fr': None}, {'access_code': 'public', 'access_days_time': 'Dealership business hours', 'access_detail_code': 'CALL', 'cards_accepted': None, 'date_last_confirmed': '2020-06-09', 'expected_date': None, 'fuel_type_code': 'ELEC', 'groups_with_access_code': 'Public - Call ahead', 'id': 39708, 'open_date': '2011-03-15', 'owner_type_code': 'P', 'status_code': 'E', 'restricted_access': False, 'maximum_vehicle_class': None, 'station_name': 'McGavock Nissan - Abilene', 'station_phone': '325-695-2970', 'updated_at': '2021-03-11T23:22:17Z', 'facility_type': 'CAR_DEALER', 'geocode_status': '200-9', 'latitude': 32.408909, 'longitude': -99.771463, 'city': 'Abilene', 'intersection_directions': None, 'plus4': None, 'state': 'TX', 'street_address': '818 E Overland Trail', 'zip': '79606', 'country': 'US', 'bd_blends': None, 'cng_dispenser_num': None, 'cng_fill_type_code': None, 'cng_psi': None, 'cng_renewable_source': None, 'cng_total_compression': None, 'cng_total_storage': None, 'cng_vehicle_class': None, 'cng_has_rng': None, 'e85_blender_pump': None, 'e85_other_ethanol_blends': None, 'ev_connector_types': ['J1772'], 'ev_dc_fast_num': None, 'ev_level1_evse_num': None, 'ev_level2_evse_num': 1, 'ev_network': 'Non-Networked', 'ev_network_web': None, 'ev_other_evse': None, 'ev_pricing': 'Free', 'ev_renewable_source': None, 'hy_is_retail': None, 'hy_pressures': None, 'hy_standards': None, 'hy_status_link': None, 'lng_renewable_source': None, 'lng_vehicle_class': None, 'lng_has_rng': None, 'lpg_primary': None, 'lpg_nozzle_types': None, 'ng_fill_type_code': None, 'ng_psi': None, 'ng_vehicle_class': None, 'rd_blends': None, 'rd_blends_fr': None, 'rd_blended_with_biodiesel': None, 'rd_max_biodiesel_level': None, 'nps_unit_name': None, 'access_days_time_fr': None, 'intersection_directions_fr': None, 'bd_blends_fr': None, 'groups_with_access_code_fr': \"Public - Appeler à l'avance\", 'ev_pricing_fr': None}, {'access_code': 'public', 'access_days_time': 'Dealership business hours', 'access_detail_code': None, 'cards_accepted': None, 'date_last_confirmed': '2020-06-09', 'expected_date': None, 'fuel_type_code': 'ELEC', 'groups_with_access_code': 'Public', 'id': 39709, 'open_date': '2011-03-15', 'owner_type_code': 'P', 'status_code': 'E', 'restricted_access': False, 'maximum_vehicle_class': None, 'station_name': 'McGavock Nissan - Amarillo', 'station_phone': '806-354-3550', 'updated_at': '2023-02-15T22:45:41Z', 'facility_type': 'CAR_DEALER', 'geocode_status': '200-9', 'latitude': 35.159354, 'longitude': -101.938937, 'city': 'Amarillo', 'intersection_directions': None, 'plus4': None, 'state': 'TX', 'street_address': '4700 S Soncy Rd', 'zip': '79119', 'country': 'US', 'bd_blends': None, 'cng_dispenser_num': None, 'cng_fill_type_code': None, 'cng_psi': None, 'cng_renewable_source': None, 'cng_total_compression': None, 'cng_total_storage': None, 'cng_vehicle_class': None, 'cng_has_rng': None, 'e85_blender_pump': None, 'e85_other_ethanol_blends': None, 'ev_connector_types': ['J1772'], 'ev_dc_fast_num': None, 'ev_level1_evse_num': None, 'ev_level2_evse_num': 2, 'ev_network': 'Non-Networked', 'ev_network_web': None, 'ev_other_evse': None, 'ev_pricing': 'Free', 'ev_renewable_source': None, 'hy_is_retail': None, 'hy_pressures': None, 'hy_standards': None, 'hy_status_link': None, 'lng_renewable_source': None, 'lng_vehicle_class': None, 'lng_has_rng': None, 'lpg_primary': None, 'lpg_nozzle_types': None, 'ng_fill_type_code': None, 'ng_psi': None, 'ng_vehicle_class': None, 'rd_blends': None, 'rd_blends_fr': None, 'rd_blended_with_biodiesel': None, 'rd_max_biodiesel_level': None, 'nps_unit_name': None, 'access_days_time_fr': None, 'intersection_directions_fr': None, 'bd_blends_fr': None, 'groups_with_access_code_fr': 'Public', 'ev_pricing_fr': None}, {'access_code': 'public', 'access_days_time': 'Dealership business hours', 'access_detail_code': 'CALL', 'cards_accepted': None, 'date_last_confirmed': '2020-06-09', 'expected_date': None, 'fuel_type_code': 'ELEC', 'groups_with_access_code': 'Public - Call ahead', 'id': 39710, 'open_date': '2011-03-15', 'owner_type_code': 'P', 'status_code': 'E', 'restricted_access': False, 'maximum_vehicle_class': None, 'station_name': 'Don Davis Nissan', 'station_phone': '817-588-5475', 'updated_at': '2023-02-15T22:45:41Z', 'facility_type': 'CAR_DEALER', 'geocode_status': '200-9', 'latitude': 32.676458, 'longitude': -97.087169, 'city': 'Arlington', 'intersection_directions': None, 'plus4': None, 'state': 'TX', 'street_address': '1320 E Interstate 20', 'zip': '76018', 'country': 'US', 'bd_blends': None, 'cng_dispenser_num': None, 'cng_fill_type_code': None, 'cng_psi': None, 'cng_renewable_source': None, 'cng_total_compression': None, 'cng_total_storage': None, 'cng_vehicle_class': None, 'cng_has_rng': None, 'e85_blender_pump': None, 'e85_other_ethanol_blends': None, 'ev_connector_types': ['J1772'], 'ev_dc_fast_num': None, 'ev_level1_evse_num': None, 'ev_level2_evse_num': 1, 'ev_network': 'Non-Networked', 'ev_network_web': None, 'ev_other_evse': None, 'ev_pricing': 'Free', 'ev_renewable_source': None, 'hy_is_retail': None, 'hy_pressures': None, 'hy_standards': None, 'hy_status_link': None, 'lng_renewable_source': None, 'lng_vehicle_class': None, 'lng_has_rng': None, 'lpg_primary': None, 'lpg_nozzle_types': None, 'ng_fill_type_code': None, 'ng_psi': None, 'ng_vehicle_class': None, 'rd_blends': None, 'rd_blends_fr': None, 'rd_blended_with_biodiesel': None, 'rd_max_biodiesel_level': None, 'nps_unit_name': None, 'access_days_time_fr': None, 'intersection_directions_fr': None, 'bd_blends_fr': None, 'groups_with_access_code_fr': \"Public - Appeler à l'avance\", 'ev_pricing_fr': None}, {'access_code': 'public', 'access_days_time': 'Dealership business hours', 'access_detail_code': 'CALL', 'cards_accepted': None, 'date_last_confirmed': '2022-12-13', 'expected_date': None, 'fuel_type_code': 'ELEC', 'groups_with_access_code': 'Public - Call ahead', 'id': 39711, 'open_date': '2011-03-15', 'owner_type_code': 'P', 'status_code': 'E', 'restricted_access': False, 'maximum_vehicle_class': 'LD', 'station_name': 'Town North Nissan', 'station_phone': '512-451-7411', 'updated_at': '2023-02-14T15:54:11Z', 'facility_type': 'CAR_DEALER', 'geocode_status': '200-9', 'latitude': 30.374542, 'longitude': -97.731445, 'city': 'Austin', 'intersection_directions': None, 'plus4': None, 'state': 'TX', 'street_address': '9160A Research Blvd', 'zip': '78758', 'country': 'US', 'bd_blends': None, 'cng_dispenser_num': None, 'cng_fill_type_code': None, 'cng_psi': None, 'cng_renewable_source': None, 'cng_total_compression': None, 'cng_total_storage': None, 'cng_vehicle_class': None, 'cng_has_rng': None, 'e85_blender_pump': None, 'e85_other_ethanol_blends': None, 'ev_connector_types': ['CHADEMO', 'J1772', 'J1772COMBO'], 'ev_dc_fast_num': 1, 'ev_level1_evse_num': None, 'ev_level2_evse_num': 1, 'ev_network': 'Non-Networked', 'ev_network_web': None, 'ev_other_evse': None, 'ev_pricing': 'Free', 'ev_renewable_source': None, 'hy_is_retail': None, 'hy_pressures': None, 'hy_standards': None, 'hy_status_link': None, 'lng_renewable_source': None, 'lng_vehicle_class': None, 'lng_has_rng': None, 'lpg_primary': None, 'lpg_nozzle_types': None, 'ng_fill_type_code': None, 'ng_psi': None, 'ng_vehicle_class': None, 'rd_blends': None, 'rd_blends_fr': None, 'rd_blended_with_biodiesel': None, 'rd_max_biodiesel_level': None, 'nps_unit_name': None, 'access_days_time_fr': None, 'intersection_directions_fr': None, 'bd_blends_fr': None, 'groups_with_access_code_fr': \"Public - Appeler à l'avance\", 'ev_pricing_fr': None}, {'access_code': 'public', 'access_days_time': 'Dealership business hours', 'access_detail_code': 'CALL', 'cards_accepted': None, 'date_last_confirmed': '2020-06-09', 'expected_date': None, 'fuel_type_code': 'ELEC', 'groups_with_access_code': 'Public - Call ahead', 'id': 39712, 'open_date': '2011-03-15', 'owner_type_code': 'P', 'status_code': 'E', 'restricted_access': False, 'maximum_vehicle_class': None, 'station_name': 'Baytown Nissan', 'station_phone': '281-421-7442', 'updated_at': '2021-03-11T23:22:17Z', 'facility_type': 'CAR_DEALER', 'geocode_status': 'GPS', 'latitude': 29.80725299717069, 'longitude': -94.97383364868773, 'city': 'Baytown', 'intersection_directions': None, 'plus4': None, 'state': 'TX', 'street_address': '5445 I-10 E', 'zip': '77521', 'country': 'US', 'bd_blends': None, 'cng_dispenser_num': None, 'cng_fill_type_code': None, 'cng_psi': None, 'cng_renewable_source': None, 'cng_total_compression': None, 'cng_total_storage': None, 'cng_vehicle_class': None, 'cng_has_rng': None, 'e85_blender_pump': None, 'e85_other_ethanol_blends': None, 'ev_connector_types': ['J1772'], 'ev_dc_fast_num': None, 'ev_level1_evse_num': None, 'ev_level2_evse_num': 1, 'ev_network': 'Non-Networked', 'ev_network_web': None, 'ev_other_evse': None, 'ev_pricing': 'Free', 'ev_renewable_source': None, 'hy_is_retail': None, 'hy_pressures': None, 'hy_standards': None, 'hy_status_link': None, 'lng_renewable_source': None, 'lng_vehicle_class': None, 'lng_has_rng': None, 'lpg_primary': None, 'lpg_nozzle_types': None, 'ng_fill_type_code': None, 'ng_psi': None, 'ng_vehicle_class': None, 'rd_blends': None, 'rd_blends_fr': None, 'rd_blended_with_biodiesel': None, 'rd_max_biodiesel_level': None, 'nps_unit_name': None, 'access_days_time_fr': None, 'intersection_directions_fr': None, 'bd_blends_fr': None, 'groups_with_access_code_fr': \"Public - Appeler à l'avance\", 'ev_pricing_fr': None}, {'access_code': 'public', 'access_days_time': 'Dealership business hours', 'access_detail_code': 'CALL', 'cards_accepted': None, 'date_last_confirmed': '2020-06-09', 'expected_date': None, 'fuel_type_code': 'ELEC', 'groups_with_access_code': 'Public - Call ahead', 'id': 39713, 'open_date': '2011-03-15', 'owner_type_code': 'P', 'status_code': 'E', 'restricted_access': False, 'maximum_vehicle_class': None, 'station_name': 'Mike Smith Nissan', 'station_phone': '409-833-7100', 'updated_at': '2023-02-15T22:45:41Z', 'facility_type': 'CAR_DEALER', 'geocode_status': '200-9', 'latitude': 30.062535, 'longitude': -94.133511, 'city': 'Beaumont', 'intersection_directions': None, 'plus4': None, 'state': 'TX', 'street_address': '1515 Interstate 10 S', 'zip': '77701', 'country': 'US', 'bd_blends': None, 'cng_dispenser_num': None, 'cng_fill_type_code': None, 'cng_psi': None, 'cng_renewable_source': None, 'cng_total_compression': None, 'cng_total_storage': None, 'cng_vehicle_class': None, 'cng_has_rng': None, 'e85_blender_pump': None, 'e85_other_ethanol_blends': None, 'ev_connector_types': ['J1772'], 'ev_dc_fast_num': None, 'ev_level1_evse_num': None, 'ev_level2_evse_num': 1, 'ev_network': 'Non-Networked', 'ev_network_web': None, 'ev_other_evse': None, 'ev_pricing': 'Free', 'ev_renewable_source': None, 'hy_is_retail': None, 'hy_pressures': None, 'hy_standards': None, 'hy_status_link': None, 'lng_renewable_source': None, 'lng_vehicle_class': None, 'lng_has_rng': None, 'lpg_primary': None, 'lpg_nozzle_types': None, 'ng_fill_type_code': None, 'ng_psi': None, 'ng_vehicle_class': None, 'rd_blends': None, 'rd_blends_fr': None, 'rd_blended_with_biodiesel': None, 'rd_max_biodiesel_level': None, 'nps_unit_name': None, 'access_days_time_fr': None, 'intersection_directions_fr': None, 'bd_blends_fr': None, 'groups_with_access_code_fr': \"Public - Appeler à l'avance\", 'ev_pricing_fr': None}, {'access_code': 'public', 'access_days_time': 'Dealership business hours', 'access_detail_code': 'CALL', 'cards_accepted': None, 'date_last_confirmed': '2022-03-07', 'expected_date': None, 'fuel_type_code': 'ELEC', 'groups_with_access_code': 'Public - Call ahead', 'id': 39714, 'open_date': '2011-03-15', 'owner_type_code': 'P', 'status_code': 'E', 'restricted_access': False, 'maximum_vehicle_class': 'LD', 'station_name': 'Grubbs Nissan', 'station_phone': '817-268-1000', 'updated_at': '2023-02-14T15:54:11Z', 'facility_type': 'CAR_DEALER', 'geocode_status': '200-9', 'latitude': 32.839339, 'longitude': -97.160994, 'city': 'Bedford', 'intersection_directions': None, 'plus4': None, 'state': 'TX', 'street_address': '310 Airport Fwy', 'zip': '76022', 'country': 'US', 'bd_blends': None, 'cng_dispenser_num': None, 'cng_fill_type_code': None, 'cng_psi': None, 'cng_renewable_source': None, 'cng_total_compression': None, 'cng_total_storage': None, 'cng_vehicle_class': None, 'cng_has_rng': None, 'e85_blender_pump': None, 'e85_other_ethanol_blends': None, 'ev_connector_types': ['CHADEMO', 'J1772', 'J1772COMBO'], 'ev_dc_fast_num': 2, 'ev_level1_evse_num': None, 'ev_level2_evse_num': 1, 'ev_network': 'Non-Networked', 'ev_network_web': None, 'ev_other_evse': None, 'ev_pricing': 'Free', 'ev_renewable_source': None, 'hy_is_retail': None, 'hy_pressures': None, 'hy_standards': None, 'hy_status_link': None, 'lng_renewable_source': None, 'lng_vehicle_class': None, 'lng_has_rng': None, 'lpg_primary': None, 'lpg_nozzle_types': None, 'ng_fill_type_code': None, 'ng_psi': None, 'ng_vehicle_class': None, 'rd_blends': None, 'rd_blends_fr': None, 'rd_blended_with_biodiesel': None, 'rd_max_biodiesel_level': None, 'nps_unit_name': None, 'access_days_time_fr': None, 'intersection_directions_fr': None, 'bd_blends_fr': None, 'groups_with_access_code_fr': \"Public - Appeler à l'avance\", 'ev_pricing_fr': None}, {'access_code': 'public', 'access_days_time': 'Dealership business hours', 'access_detail_code': 'CALL', 'cards_accepted': None, 'date_last_confirmed': '2020-06-09', 'expected_date': None, 'fuel_type_code': 'ELEC', 'groups_with_access_code': 'Public - Call ahead', 'id': 39715, 'open_date': '2011-03-15', 'owner_type_code': 'P', 'status_code': 'E', 'restricted_access': False, 'maximum_vehicle_class': None, 'station_name': 'Douglass Nissan', 'station_phone': '979-764-7726', 'updated_at': '2023-02-15T22:45:41Z', 'facility_type': 'CAR_DEALER', 'geocode_status': '200-9', 'latitude': 30.639201, 'longitude': -96.30671, 'city': 'College Station', 'intersection_directions': None, 'plus4': None, 'state': 'TX', 'street_address': '1001 Earl Rudder Fwy S', 'zip': '77845', 'country': 'US', 'bd_blends': None, 'cng_dispenser_num': None, 'cng_fill_type_code': None, 'cng_psi': None, 'cng_renewable_source': None, 'cng_total_compression': None, 'cng_total_storage': None, 'cng_vehicle_class': None, 'cng_has_rng': None, 'e85_blender_pump': None, 'e85_other_ethanol_blends': None, 'ev_connector_types': ['J1772'], 'ev_dc_fast_num': None, 'ev_level1_evse_num': None, 'ev_level2_evse_num': 1, 'ev_network': 'Non-Networked', 'ev_network_web': None, 'ev_other_evse': None, 'ev_pricing': 'Free', 'ev_renewable_source': None, 'hy_is_retail': None, 'hy_pressures': None, 'hy_standards': None, 'hy_status_link': None, 'lng_renewable_source': None, 'lng_vehicle_class': None, 'lng_has_rng': None, 'lpg_primary': None, 'lpg_nozzle_types': None, 'ng_fill_type_code': None, 'ng_psi': None, 'ng_vehicle_class': None, 'rd_blends': None, 'rd_blends_fr': None, 'rd_blended_with_biodiesel': None, 'rd_max_biodiesel_level': None, 'nps_unit_name': None, 'access_days_time_fr': None, 'intersection_directions_fr': None, 'bd_blends_fr': None, 'groups_with_access_code_fr': \"Public - Appeler à l'avance\", 'ev_pricing_fr': None}]}\n"
     ]
    }
   ],
   "source": [
    "# Make a GET request to the API\n",
    "response = requests.get(url, params=params)\n",
    "\n",
    "# Check if the request was successful\n",
    "if response.status_code == 200:\n",
    "    json_data = response.json()\n",
    "    print(json_data)\n",
    "else:\n",
    "    pprint(f\"Failed to retrieve data: {response.status_code}\")\n",
    "    "
   ]
  },
  {
   "cell_type": "code",
   "execution_count": 7,
   "id": "9e832ba1-3ee7-41ca-94ea-87889d2b4c0d",
   "metadata": {
    "tags": []
   },
   "outputs": [
    {
     "name": "stdout",
     "output_type": "stream",
     "text": [
      "https://developer.nrel.gov/api/alt-fuel-stations/v1.json?api_key=RjZpx6DxeHBP4d17uK9Uifu6qhas3674psy6dJ7Q&limit=10&fuel_type=ELEC&state=TX\n"
     ]
    }
   ],
   "source": [
    "print (response.url)"
   ]
  },
  {
   "cell_type": "code",
   "execution_count": null,
   "id": "660444a6-6034-4c7c-bc34-00bd6f28bc2f",
   "metadata": {},
   "outputs": [],
   "source": [
    " "
   ]
  }
 ],
 "metadata": {
  "kernelspec": {
   "display_name": "Python 3 (ipykernel)",
   "language": "python",
   "name": "python3"
  },
  "language_info": {
   "codemirror_mode": {
    "name": "ipython",
    "version": 3
   },
   "file_extension": ".py",
   "mimetype": "text/x-python",
   "name": "python",
   "nbconvert_exporter": "python",
   "pygments_lexer": "ipython3",
   "version": "3.9.15"
  }
 },
 "nbformat": 4,
 "nbformat_minor": 5
}
