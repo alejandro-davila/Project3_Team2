{
 "cells": [
  {
   "cell_type": "code",
   "execution_count": 1,
   "id": "b09670d6-3f3f-4a2b-9c12-b248812262f9",
   "metadata": {
    "tags": []
   },
   "outputs": [],
   "source": [
    "import requests\n",
    "from pprint import pprint\n",
    "import sqlite3"
   ]
  },
  {
   "cell_type": "code",
   "execution_count": 2,
   "id": "bcd16e11-9461-4869-8559-8f70b3497215",
   "metadata": {
    "tags": []
   },
   "outputs": [],
   "source": [
    "# API key you received from NREL\n",
    "api_key = \"RjZpx6DxeHBP4d17uK9Uifu6qhas3674psy6dJ7Q\"\n",
    "\n"
   ]
  },
  {
   "cell_type": "code",
   "execution_count": 3,
   "id": "ae57dbd4-ec02-4d9f-b7b0-713ed61874d5",
   "metadata": {
    "tags": []
   },
   "outputs": [],
   "source": [
    "# Base URL for the NREL API\n",
    "base_url = \"https://developer.nrel.gov\"\n",
    "endpoint = \"/api/alt-fuel-stations/v1.json\"\n",
    "\n",
    "url = base_url + endpoint\n",
    "\n"
   ]
  },
  {
   "cell_type": "code",
   "execution_count": 4,
   "id": "942ef2a8-b32f-46d2-a6e0-b24089a4899f",
   "metadata": {
    "tags": []
   },
   "outputs": [],
   "source": [
    "# Set up parameters: Electric Stations in Texas\n",
    "params = {\n",
    "    'api_key': api_key,\n",
    "    'limit': 1000,  # Limiting the number of results returned\n",
    "    'fuel_type': 'ELEC',\n",
    "    'state': 'TX'\n",
    "}\n",
    "\n"
   ]
  },
  {
   "cell_type": "code",
   "execution_count": 5,
   "id": "791ea3c6",
   "metadata": {},
   "outputs": [],
   "source": [
    "conn = sqlite3.connect('fuel_stations.db')\n",
    "cursor = conn.cursor()\n",
    "\n",
    "cursor.execute('''\n",
    "    CREATE TABLE IF NOT EXISTS fuel_stations (\n",
    "        id INTEGER PRIMARY KEY,\n",
    "        station_name TEXT,\n",
    "        address TEXT,\n",
    "        fuel_type_code TEXT,\n",
    "        ev_network TEXT,\n",
    "        ev_level1_evse_num INTEGER,\n",
    "        ev_level2_evse_num INTEGER,\n",
    "        ev_dc_fast_num INTEGER,\n",
    "        ev_connector_types TEXT,\n",
    "        ev_pricing TEXT,\n",
    "        ev_renewable_source INTEGER,\n",
    "        restricted_access INTEGER,\n",
    "        state TEXT,\n",
    "        city TEXT,\n",
    "        zip TEXT,\n",
    "        latitude REAL,\n",
    "        longitude REAL\n",
    "    )\n",
    "''')\n",
    "conn.commit()"
   ]
  },
  {
   "cell_type": "code",
   "execution_count": 6,
   "id": "ec9bb43f-94c8-40a0-9364-c77764d8fb3a",
   "metadata": {
    "tags": []
   },
   "outputs": [
    {
     "name": "stdout",
     "output_type": "stream",
     "text": [
      "Failed to retrieve data: 422\n"
     ]
    }
   ],
   "source": [
    "# Make a GET request to the API\n",
    "response = requests.get(url, params=params)\n",
    "\n",
    "# Check if the request was successful\n",
    "if response.status_code == 200:\n",
    "    json_data = response.json()\n",
    "\n",
    "    # Insert each record into the table\n",
    "    for station in json_data['fuel_stations']:\n",
    "        ev_connector_types = ','.join(station['ev_connector_types'])\n",
    "        cursor.execute('''\n",
    "            INSERT INTO fuel_stations (id, station_name, address, fuel_type_code, ev_network, ev_level1_evse_num, ev_level2_evse_num, ev_dc_fast_num, ev_connector_types, ev_pricing, ev_renewable_source, restricted_access, state, city, zip, latitude, longitude)\n",
    "            VALUES (?, ?, ?, ?, ?, ?, ?, ?, ?, ?, ?, ?, ?, ?, ?, ?, ?)\n",
    "        ''', (\n",
    "            station['id'],\n",
    "            station['station_name'],\n",
    "            station['street_address'],\n",
    "            station['fuel_type_code'],\n",
    "            station['ev_network'],\n",
    "            station['ev_level1_evse_num'],\n",
    "            station['ev_level2_evse_num'],\n",
    "            station['ev_dc_fast_num'],\n",
    "            ev_connector_types,\n",
    "            station['ev_pricing'],\n",
    "            station['ev_renewable_source'],\n",
    "            station['restricted_access'],\n",
    "            station['state'],\n",
    "            station['city'],\n",
    "            station['zip'],\n",
    "            station['latitude'],\n",
    "            station['longitude']\n",
    "        ))\n",
    "\n",
    "    # Commit the changes and close the connection\n",
    "    conn.commit()\n",
    "else:\n",
    "    print(f\"Failed to retrieve data: {response.status_code}\")"
   ]
  },
  {
   "cell_type": "code",
   "execution_count": null,
   "id": "660444a6-6034-4c7c-bc34-00bd6f28bc2f",
   "metadata": {},
   "outputs": [],
   "source": [
    " "
   ]
  }
 ],
 "metadata": {
  "kernelspec": {
   "display_name": "Python 3 (ipykernel)",
   "language": "python",
   "name": "python3"
  },
  "language_info": {
   "codemirror_mode": {
    "name": "ipython",
    "version": 3
   },
   "file_extension": ".py",
   "mimetype": "text/x-python",
   "name": "python",
   "nbconvert_exporter": "python",
   "pygments_lexer": "ipython3",
   "version": "3.10.11"
  }
 },
 "nbformat": 4,
 "nbformat_minor": 5
}
