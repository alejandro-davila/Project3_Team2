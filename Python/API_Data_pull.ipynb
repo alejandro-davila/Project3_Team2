{
 "cells": [
  {
   "cell_type": "code",
   "execution_count": 8,
   "id": "b09670d6-3f3f-4a2b-9c12-b248812262f9",
   "metadata": {
    "tags": []
   },
   "outputs": [],
   "source": [
    "import requests\n",
    "from pprint import pprint"
   ]
  },
  {
   "cell_type": "code",
   "execution_count": 2,
   "id": "bcd16e11-9461-4869-8559-8f70b3497215",
   "metadata": {
    "tags": []
   },
   "outputs": [],
   "source": [
    "# API key you received from NREL\n",
    "api_key = \"RjZpx6DxeHBP4d17uK9Uifu6qhas3674psy6dJ7Q\"\n",
    "\n"
   ]
  },
  {
   "cell_type": "code",
   "execution_count": 3,
   "id": "ae57dbd4-ec02-4d9f-b7b0-713ed61874d5",
   "metadata": {
    "tags": []
   },
   "outputs": [],
   "source": [
    "# Base URL for the NREL API\n",
    "base_url = \"https://developer.nrel.gov\"\n",
    "endpoint = \"/api/alt-fuel-stations/v1.json\"\n",
    "\n",
    "url = base_url + endpoint\n",
    "\n"
   ]
  },
  {
   "cell_type": "code",
   "execution_count": 13,
   "id": "942ef2a8-b32f-46d2-a6e0-b24089a4899f",
   "metadata": {
    "tags": []
   },
   "outputs": [],
   "source": [
    "# Set up parameters: Electric Stations in Texas\n",
    "params = {\n",
    "    'api_key': api_key,\n",
    "    'limit': 10,  # Limiting the number of results returned\n",
    "    'fuel_type': 'ELEC',  # For electric stations\n",
    "    'state': 'TX'  # For stations located in Texas\n",
    "}\n",
    "\n"
   ]
  },
  {
   "cell_type": "code",
   "execution_count": null,
   "id": "ec9bb43f-94c8-40a0-9364-c77764d8fb3a",
   "metadata": {
    "tags": []
   },
   "outputs": [],
   "source": [
    "# Make a GET request to the API\n",
    "response = requests.get(url, params=params)\n",
    "\n",
    "# Check if the request was successful\n",
    "if response.status_code == 200:\n",
    "    json_data = response.json()\n",
    "    print(json_data)\n",
    "else:\n",
    "    pprint(f\"Failed to retrieve data: {response.status_code}\")\n",
    "    "
   ]
  },
  {
   "cell_type": "code",
   "execution_count": 20,
   "id": "9e832ba1-3ee7-41ca-94ea-87889d2b4c0d",
   "metadata": {
    "tags": []
   },
   "outputs": [
    {
     "name": "stdout",
     "output_type": "stream",
     "text": [
      "https://developer.nrel.gov/api/alt-fuel-stations/v1.json?api_key=RjZpx6DxeHBP4d17uK9Uifu6qhas3674psy6dJ7Q&limit=10&fuel_type=ELEC&state=TX\n"
     ]
    }
   ],
   "source": [
    "print (response.url)"
   ]
  },
  {
   "cell_type": "code",
   "execution_count": null,
   "id": "660444a6-6034-4c7c-bc34-00bd6f28bc2f",
   "metadata": {},
   "outputs": [],
   "source": [
    " "
   ]
  }
 ],
 "metadata": {
  "kernelspec": {
   "display_name": "Python 3 (ipykernel)",
   "language": "python",
   "name": "python3"
  },
  "language_info": {
   "codemirror_mode": {
    "name": "ipython",
    "version": 3
   },
   "file_extension": ".py",
   "mimetype": "text/x-python",
   "name": "python",
   "nbconvert_exporter": "python",
   "pygments_lexer": "ipython3",
   "version": "3.11.4"
  }
 },
 "nbformat": 4,
 "nbformat_minor": 5
}
