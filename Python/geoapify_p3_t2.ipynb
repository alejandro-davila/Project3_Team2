{
 "cells": [
  {
   "cell_type": "code",
   "execution_count": 8,
   "id": "afef8df7-1903-46c8-bfd5-196799ad19e9",
   "metadata": {
    "tags": []
   },
   "outputs": [],
   "source": [
    "# Find the names and addresses of the five nearest restaurants with internet access within the charging stations.¶\n",
    "# Dependencies\n",
    "import requests\n",
    "import json\n",
    "\n",
    "# Import the API key\n",
    "from config import geoapify_key"
   ]
  },
  {
   "cell_type": "code",
   "execution_count": null,
   "id": "712d5c40-d9aa-48e3-97bc-eb2c5b427fe4",
   "metadata": {
    "tags": []
   },
   "outputs": [
    {
     "name": "stdout",
     "output_type": "stream",
     "text": [
      "https://api.geoapify.com/v2/places?categories=catering.restaurant&conditions=internet_access&limit=20&bias=proximity%3A-97.7436995%2C30.2711286&apiKey=d58097cbb423470f9f44f284d8510a28\n"
     ]
    }
   ],
   "source": [
    "# Set the geographical coordinates for my home\n",
    "latitude = 30.2711286\n",
    "longitude = -97.7436995\n",
    "\n",
    "# Set the parameters for the type of place\n",
    "categories = \"catering.restaurant\"\n",
    "conditions = \"internet_access\"\n",
    "\n",
    "# Set the parameters for the type of search\n",
    "bias = f\"proximity:{longitude},{latitude}\"\n",
    "limit = 200\n",
    "\n",
    "# set up a parameters dictionary\n",
    "params = {\n",
    "    \"categories\":categories,\n",
    "    \"conditions\":conditions,\n",
    "    \"limit\":limit,\n",
    "    \"bias\":bias,\n",
    "    \"apiKey\":geoapify_key    \n",
    "}\n",
    "\n",
    "# Set base URL\n",
    "base_url = \"https://api.geoapify.com/v2/places\"\n",
    "# run a request using our params dictionary\n",
    "response = requests.get(base_url, params=params)\n",
    "print(response.url)"
   ]
  },
  {
   "cell_type": "code",
   "execution_count": null,
   "id": "5635a261-240f-4799-b183-44c52ca224ca",
   "metadata": {
    "tags": []
   },
   "outputs": [],
   "source": [
    "# Run request\n",
    "response = requests.get(base_url, params=params).json()\n",
    "\n",
    "# Print the json (pretty printed)\n",
    "print(json.dumps(response, indent=4, sort_keys=True))\n"
   ]
  },
  {
   "cell_type": "code",
   "execution_count": 5,
   "id": "0e0fb35d-163f-4908-ba45-432e42ffac66",
   "metadata": {
    "tags": []
   },
   "outputs": [
    {
     "name": "stdout",
     "output_type": "stream",
     "text": [
      "Restaurant 1:\n",
      "Forthright\n",
      "35 Brazos Street, Austin, TX 78701, United States of America\n",
      "********************\n",
      "Restaurant 2:\n",
      "Salvation Pizza\n",
      "West 34th Street, Austin, TX 78703, United States of America\n",
      "********************\n",
      "Restaurant 3:\n",
      "The Garden\n",
      "3403 South Lamar Boulevard, Austin, TX 78704, United States of America\n",
      "********************\n",
      "Restaurant 4:\n",
      "The Brewtorium\n",
      "6015 Dillard Circle, Austin, TX 78752, United States of America\n",
      "********************\n",
      "Restaurant 5:\n",
      "TC Noodle House\n",
      "10901 North Lamar Boulevard, Austin, TX 78753, United States of America\n",
      "********************\n"
     ]
    }
   ],
   "source": [
    "# Print the results\n",
    "counter = 0\n",
    "\n",
    "for place in response[\"features\"]:\n",
    "    print(f\"Restaurant {counter+1}:\")\n",
    "    print(place[\"properties\"][\"name\"])\n",
    "    print(place[\"properties\"][\"address_line2\"])\n",
    "    print(\"*\"*20)\n",
    "    counter = counter + 1\n",
    "    if counter == 5:\n",
    "        break"
   ]
  },
  {
   "cell_type": "code",
   "execution_count": null,
   "id": "dad9c6b7-baaa-4a4a-91b7-7051a6701032",
   "metadata": {},
   "outputs": [],
   "source": []
  }
 ],
 "metadata": {
  "kernelspec": {
   "display_name": "Python 3 (ipykernel)",
   "language": "python",
   "name": "python3"
  },
  "language_info": {
   "codemirror_mode": {
    "name": "ipython",
    "version": 3
   },
   "file_extension": ".py",
   "mimetype": "text/x-python",
   "name": "python",
   "nbconvert_exporter": "python",
   "pygments_lexer": "ipython3",
   "version": "3.11.4"
  }
 },
 "nbformat": 4,
 "nbformat_minor": 5
}
