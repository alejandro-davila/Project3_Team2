{
 "cells": [
  {
   "cell_type": "code",
   "execution_count": 1,
   "id": "b09670d6-3f3f-4a2b-9c12-b248812262f9",
   "metadata": {
    "tags": []
   },
   "outputs": [],
   "source": [
    "import requests\n",
    "from pprint import pprint\n",
    "import sqlite3"
   ]
  },
  {
   "cell_type": "code",
   "execution_count": 2,
   "id": "bcd16e11-9461-4869-8559-8f70b3497215",
   "metadata": {
    "tags": []
   },
   "outputs": [],
   "source": [
    "# API key you received from NREL\n",
    "api_key = \"RjZpx6DxeHBP4d17uK9Uifu6qhas3674psy6dJ7Q\"\n",
    "\n"
   ]
  },
  {
   "cell_type": "code",
   "execution_count": 3,
   "id": "ae57dbd4-ec02-4d9f-b7b0-713ed61874d5",
   "metadata": {
    "tags": []
   },
   "outputs": [],
   "source": [
    "# Base URL for the NREL API\n",
    "base_url = \"https://developer.nrel.gov\"\n",
    "endpoint = \"/api/alt-fuel-stations/v1.json\"\n",
    "\n",
    "url = base_url + endpoint\n",
    "\n"
   ]
  },
  {
   "cell_type": "code",
   "execution_count": 4,
   "id": "942ef2a8-b32f-46d2-a6e0-b24089a4899f",
   "metadata": {
    "tags": []
   },
   "outputs": [],
   "source": [
    "# Set up parameters: Electric Stations in Texas\n",
    "params = {\n",
    "    'api_key': api_key,\n",
    "    'limit': 10,  # Limiting the number of results returned\n",
    "    'fuel_type': 'ELEC',  # For electric stations\n",
    "    'state': 'TX'  # For stations located in Texas\n",
    "}\n",
    "\n"
   ]
  },
  {
   "cell_type": "code",
   "execution_count": 5,
   "id": "791ea3c6",
   "metadata": {},
   "outputs": [
    {
     "data": {
      "text/plain": [
       "<sqlite3.Cursor at 0x1611cebb940>"
      ]
     },
     "execution_count": 5,
     "metadata": {},
     "output_type": "execute_result"
    }
   ],
   "source": [
    "conn = sqlite3.connect('fuel_stations.db')\n",
    "cursor = conn.cursor()\n",
    "\n",
    "cursor.execute('''\n",
    "    CREATE TABLE IF NOT EXISTS fuel_stations (\n",
    "        id INTEGER PRIMARY KEY,\n",
    "        station_name TEXT,\n",
    "        address TEXT,\n",
    "        fuel_type_code TEXT,\n",
    "        state TEXT,\n",
    "        latitude REAL,\n",
    "        longitude REAL\n",
    "    )\n",
    "''')\n",
    "conn.commit()"
   ]
  },
  {
   "cell_type": "code",
   "execution_count": 7,
   "id": "ec9bb43f-94c8-40a0-9364-c77764d8fb3a",
   "metadata": {
    "tags": []
   },
   "outputs": [],
   "source": [
    "# Make a GET request to the API\n",
    "response = requests.get(url, params=params)\n",
    "\n",
    "# Check if the request was successful\n",
    "if response.status_code == 200:\n",
    "    json_data = response.json()\n",
    "\n",
    "    # Insert each record into the table\n",
    "    for station in json_data['fuel_stations']:\n",
    "        cursor.execute('''\n",
    "            INSERT INTO fuel_stations (id, station_name, address, fuel_type_code, state, latitude, longitude)\n",
    "            VALUES (?, ?, ?, ?, ?, ?, ?)\n",
    "        ''', (\n",
    "            station['id'],\n",
    "            station['station_name'],\n",
    "            station['street_address'],\n",
    "            station['fuel_type_code'],\n",
    "            station['state'],\n",
    "            station['latitude'],\n",
    "            station['longitude']\n",
    "        ))\n",
    "\n",
    "    # Commit the changes and close the connection\n",
    "    conn.commit()\n",
    "else:\n",
    "    print(f\"Failed to retrieve data: {response.status_code}\")"
   ]
  },
  {
   "cell_type": "code",
   "execution_count": 8,
   "id": "9e832ba1-3ee7-41ca-94ea-87889d2b4c0d",
   "metadata": {
    "tags": []
   },
   "outputs": [
    {
     "name": "stdout",
     "output_type": "stream",
     "text": [
      "(36378, 'BROOKFIELD PROP 300 CLAY STAT1', '300 Clay St', 'ELEC', 'TX', 29.756604, -95.372854)\n",
      "(39114, 'Clay Cooley Nissan', '4914 S IH-35', 'ELEC', 'TX', 30.206145, -97.759109)\n",
      "(39708, 'McGavock Nissan - Abilene', '818 E Overland Trail', 'ELEC', 'TX', 32.408909, -99.771463)\n",
      "(39709, 'McGavock Nissan - Amarillo', '4700 S Soncy Rd', 'ELEC', 'TX', 35.159354, -101.938937)\n",
      "(39710, 'Don Davis Nissan', '1320 E Interstate 20', 'ELEC', 'TX', 32.676458, -97.087169)\n",
      "(39711, 'Town North Nissan', '9160A Research Blvd', 'ELEC', 'TX', 30.374542, -97.731445)\n",
      "(39712, 'Baytown Nissan', '5445 I-10 E', 'ELEC', 'TX', 29.80725299717069, -94.97383364868773)\n",
      "(39713, 'Mike Smith Nissan', '1515 Interstate 10 S', 'ELEC', 'TX', 30.062535, -94.133511)\n",
      "(39714, 'Grubbs Nissan', '310 Airport Fwy', 'ELEC', 'TX', 32.839339, -97.160994)\n",
      "(39715, 'Douglass Nissan', '1001 Earl Rudder Fwy S', 'ELEC', 'TX', 30.639201, -96.30671)\n"
     ]
    }
   ],
   "source": [
    "# Execute a SELECT query to retrieve all records from the table\n",
    "cursor.execute('SELECT * FROM fuel_stations')\n",
    "\n",
    "# Fetch all the records\n",
    "rows = cursor.fetchall()\n",
    "\n",
    "# Print the retrieved data\n",
    "for row in rows:\n",
    "    print(row)\n",
    "\n",
    "# Close the database connection\n",
    "conn.close()"
   ]
  },
  {
   "cell_type": "code",
   "execution_count": null,
   "id": "660444a6-6034-4c7c-bc34-00bd6f28bc2f",
   "metadata": {},
   "outputs": [],
   "source": [
    " "
   ]
  }
 ],
 "metadata": {
  "kernelspec": {
   "display_name": "Python 3 (ipykernel)",
   "language": "python",
   "name": "python3"
  },
  "language_info": {
   "codemirror_mode": {
    "name": "ipython",
    "version": 3
   },
   "file_extension": ".py",
   "mimetype": "text/x-python",
   "name": "python",
   "nbconvert_exporter": "python",
   "pygments_lexer": "ipython3",
   "version": "3.10.11"
  }
 },
 "nbformat": 4,
 "nbformat_minor": 5
}
